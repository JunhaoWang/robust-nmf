{
 "cells": [
  {
   "cell_type": "markdown",
   "metadata": {},
   "source": [
    "# Minimal working examples:\n",
    "\n",
    "For exhaustive details and further functionality, please see the comments on the function ```robust_nmf()``` in ```torch_functions.py``` or ```numpy_functions.py```.\n",
    "\n",
    "This file implements everything in PyTorch. For NumPy, just ```import numpy```, replace all instances of ```torch``` with ```numpy``` and remove the ```.cuda()``` suffix.\n",
    "\n",
    "# Switching between backends:"
   ]
  },
  {
   "cell_type": "code",
   "execution_count": 1,
   "metadata": {},
   "outputs": [],
   "source": [
    "# Setting paths such that this notebook can see the relevant files.\n",
    "import sys\n",
    "sys.path.append(\"..\")\n",
    "\n",
    "# For PyTorch:\n",
    "import torch\n",
    "import numpy as np\n",
    "from backends.torch_functions import robust_nmf"
   ]
  },
  {
   "cell_type": "markdown",
   "metadata": {},
   "source": [
    "# Setting a default data type and initializing a random test array:"
   ]
  },
  {
   "cell_type": "code",
   "execution_count": 2,
   "metadata": {},
   "outputs": [],
   "source": [
    "# Performing computations at fp64:\n",
    "torch.set_default_tensor_type(torch.cuda.DoubleTensor)\n",
    "\n",
    "# Uncomment if you want fp32:\n",
    "# torch.set_default_tensor_type(torch.cuda.FloatTensor)\n",
    "\n",
    "# Initializing a (26,90480) matrix uniformly at random:\n",
    "data = torch.rand(26,90480).cuda()"
   ]
  },
  {
   "cell_type": "markdown",
   "metadata": {},
   "source": [
    "# Performing rNMF with random initializations:\n",
    "The initial values are drawn uniformly at random from [0, 1)."
   ]
  },
  {
   "cell_type": "code",
   "execution_count": 3,
   "metadata": {},
   "outputs": [
    {
     "name": "stdout",
     "output_type": "stream",
     "text": [
      "Initializing rNMF uniformly at random.\n",
      "Iter = 0; Obj = 860624.1076735014\n",
      "Iter = 1; Obj = 186262.65325965002; Err = 0.7835725822703619\n",
      "Iter = 11; Obj = 131580.6448867686; Err = 0.008799629743373694\n",
      "Iter = 21; Obj = 126111.44253477996; Err = 0.002018612768697702\n",
      "Iter = 31; Obj = 124857.99265816499; Err = 0.00048611764710844245\n",
      "Iter = 41; Obj = 124548.83661487693; Err = 0.00012806219261813248\n",
      "Iter = 51; Obj = 124461.81456858426; Err = 3.923948228450463e-05\n",
      "Iter = 61; Obj = 124433.28711322667; Err = 1.4000728288923888e-05\n",
      "Iter = 71; Obj = 124422.19088276206; Err = 6.056524742673756e-06\n",
      "Iter = 81; Obj = 124416.85112297354; Err = 3.22995801379657e-06\n",
      "Iter = 91; Obj = 124413.7844557099; Err = 1.971234114813964e-06\n",
      "Iter = 101; Obj = 124411.81389334888; Err = 1.3282187823026368e-06\n",
      "Iter = 111; Obj = 124410.4231873861; Err = 9.760073821766235e-07\n",
      "Iter = 121; Obj = 124409.35937100017; Err = 7.715685329588741e-07\n",
      "Iter = 131; Obj = 124408.49214310525; Err = 6.446245654872268e-07\n",
      "Iter = 141; Obj = 124407.75039788274; Err = 5.61619555366785e-07\n",
      "Iter = 151; Obj = 124407.09238411185; Err = 5.052834536739581e-07\n",
      "Iter = 161; Obj = 124406.49212081498; Err = 4.6590198885651386e-07\n",
      "Iter = 171; Obj = 124405.93273009107; Err = 4.377022474248951e-07\n",
      "Iter = 181; Obj = 124405.40300070588; Err = 4.170023052908263e-07\n",
      "Iter = 191; Obj = 124404.89526536646; Err = 4.0152772630982843e-07\n",
      "Maximum number of iterations achieved\n"
     ]
    }
   ],
   "source": [
    "basis, coeff, outlier, obj = robust_nmf(data,\n",
    "                                        rank=2,\n",
    "                                        beta=1.5,\n",
    "                                        init='random',\n",
    "                                        reg_val=1,\n",
    "                                        sum_to_one=0,\n",
    "                                        tol=1e-7,\n",
    "                                        max_iter=200)"
   ]
  },
  {
   "cell_type": "markdown",
   "metadata": {},
   "source": [
    "# Performing rNMF with user provided initializations\n",
    "The initial values are taken from a dictionary provided by the user (as shown below)."
   ]
  },
  {
   "cell_type": "code",
   "execution_count": 4,
   "metadata": {},
   "outputs": [
    {
     "name": "stdout",
     "output_type": "stream",
     "text": [
      "Initializing rNMF with user provided values.\n",
      "Iter = 0; Obj = 956674.4795151947\n",
      "Iter = 1; Obj = 184179.9047919797; Err = 0.8074790237058326\n",
      "Iter = 11; Obj = 131566.05567126023; Err = 0.00679779551860913\n",
      "Iter = 21; Obj = 127333.63594571377; Err = 0.0017939127308340208\n",
      "Iter = 31; Obj = 125841.08354302836; Err = 0.0008342604961603473\n",
      "Iter = 41; Obj = 125106.1071703469; Err = 0.00042086307767241646\n",
      "Iter = 51; Obj = 124744.95473775553; Err = 0.00020331787307632936\n",
      "Iter = 61; Obj = 124572.16042067332; Err = 9.746647995210239e-05\n",
      "Iter = 71; Obj = 124488.68268246274; Err = 4.773124800726461e-05\n",
      "Iter = 81; Obj = 124447.11137243448; Err = 2.424248315591698e-05\n",
      "Iter = 91; Obj = 124425.53206384536; Err = 1.2914279073034423e-05\n",
      "Iter = 101; Obj = 124413.69052115854; Err = 7.312931770604286e-06\n",
      "Iter = 111; Obj = 124406.70728777768; Err = 4.511196055353029e-06\n",
      "Iter = 121; Obj = 124402.16693012453; Err = 3.079379668917345e-06\n",
      "Iter = 131; Obj = 124398.91727193256; Err = 2.293644702526238e-06\n",
      "Iter = 141; Obj = 124396.40261025286; Err = 1.8335560043233567e-06\n",
      "Iter = 151; Obj = 124394.33196097001; Err = 1.5456396666562407e-06\n",
      "Iter = 161; Obj = 124392.54586893084; Err = 1.3511006544189248e-06\n",
      "Iter = 171; Obj = 124390.96649149164; Err = 1.2134319672350272e-06\n",
      "Iter = 181; Obj = 124389.52427911191; Err = 1.1192855180923846e-06\n",
      "Iter = 191; Obj = 124388.18622710145; Err = 1.0434902315361607e-06\n",
      "Maximum number of iterations achieved\n"
     ]
    }
   ],
   "source": [
    "# Creating dictionary for initial values:\n",
    "init_dict = dict()\n",
    "init_dict['basis'] = torch.rand(26,2).cuda()\n",
    "init_dict['coeff'] = torch.rand(2,90480).cuda()\n",
    "init_dict['outlier'] = torch.rand(26,90480).cuda()\n",
    "\n",
    "# Performing rNMF:\n",
    "basis, coeff, outlier, obj = robust_nmf(data,\n",
    "                                        rank=2,\n",
    "                                        beta=1.5,\n",
    "                                        init='user',\n",
    "                                        reg_val=1,\n",
    "                                        sum_to_one=0,\n",
    "                                        tol=1e-7,\n",
    "                                        max_iter=200,\n",
    "                                        user_prov=init_dict)"
   ]
  },
  {
   "cell_type": "markdown",
   "metadata": {},
   "source": [
    "# Performing rNMF with nndsvd(ar)-initialization\n",
    "The initial values for the basis and coefficients are computed via slight modification of Boutsidis' NNDSVD algorithm. The outlier initializations are drawn uniformly at random."
   ]
  },
  {
   "cell_type": "code",
   "execution_count": 5,
   "metadata": {},
   "outputs": [
    {
     "name": "stdout",
     "output_type": "stream",
     "text": [
      "Initializing rNMF with nndsvdar. Switching to NumPy.\n",
      "Done. Switching back to PyTorch.\n",
      "Iter = 0; Obj = 817505.2262421027\n",
      "Iter = 1; Obj = 173304.68349431458; Err = 0.7880078586274497\n",
      "Iter = 11; Obj = 127801.94409090755; Err = 0.003481850315860018\n",
      "Iter = 21; Obj = 125818.40712474109; Err = 0.0007806008461475213\n",
      "Iter = 31; Obj = 125222.8800342345; Err = 0.00031570516054699757\n",
      "Iter = 41; Obj = 124945.63442238621; Err = 0.00016426908655659586\n",
      "Iter = 51; Obj = 124793.35919150179; Err = 9.473453536933081e-05\n",
      "Iter = 61; Obj = 124701.41830332922; Err = 5.979702297011655e-05\n",
      "Iter = 71; Obj = 124641.23750678748; Err = 4.041385022291378e-05\n",
      "Iter = 81; Obj = 124599.3694915909; Err = 2.8874917786066613e-05\n",
      "Iter = 91; Obj = 124568.71202266245; Err = 2.1547864334934495e-05\n",
      "Iter = 101; Obj = 124545.50731160774; Err = 1.6521541224620903e-05\n",
      "Iter = 111; Obj = 124527.48622525239; Err = 1.2966994499843017e-05\n",
      "Iter = 121; Obj = 124513.17790339331; Err = 1.040584679617709e-05\n",
      "Iter = 131; Obj = 124501.52024193009; Err = 8.601364109628588e-06\n",
      "Iter = 141; Obj = 124491.76638314147; Err = 7.269590626761714e-06\n",
      "Iter = 151; Obj = 124483.44871373306; Err = 6.228209867030115e-06\n",
      "Iter = 161; Obj = 124476.2727086067; Err = 5.414070758458926e-06\n",
      "Iter = 171; Obj = 124470.02046937907; Err = 4.7235948347158035e-06\n",
      "Iter = 181; Obj = 124464.52568089636; Err = 4.185844560549843e-06\n",
      "Iter = 191; Obj = 124459.62906424735; Err = 3.7280361857166792e-06\n",
      "Maximum number of iterations achieved\n"
     ]
    }
   ],
   "source": [
    "basis, coeff, outlier, obj = robust_nmf(data,\n",
    "                                        rank=2,\n",
    "                                        beta=1.5,\n",
    "                                        init='nndsvdar',\n",
    "                                        reg_val=1,\n",
    "                                        sum_to_one=0,\n",
    "                                        tol=1e-7,\n",
    "                                        max_iter=200)"
   ]
  },
  {
   "cell_type": "code",
   "execution_count": null,
   "metadata": {},
   "outputs": [],
   "source": []
  }
 ],
 "metadata": {
  "kernelspec": {
   "display_name": "Python 3",
   "language": "python",
   "name": "python3"
  },
  "language_info": {
   "codemirror_mode": {
    "name": "ipython",
    "version": 3
   },
   "file_extension": ".py",
   "mimetype": "text/x-python",
   "name": "python",
   "nbconvert_exporter": "python",
   "pygments_lexer": "ipython3",
   "version": "3.7.1"
  }
 },
 "nbformat": 4,
 "nbformat_minor": 2
}
