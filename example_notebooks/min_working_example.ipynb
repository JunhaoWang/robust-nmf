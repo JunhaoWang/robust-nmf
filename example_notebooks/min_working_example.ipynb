{
 "cells": [
  {
   "cell_type": "markdown",
   "metadata": {},
   "source": [
    "# Minimal working examples:\n",
    "\n",
    "For exhaustive details and further functionality, please see the comments on the function ```robust_nmf()``` in ```torch_functions.py``` or ```numpy_functions.py```.\n",
    "\n",
    "This file implements everything in PyTorch. For NumPy, just ```import numpy```, replace all instances of ```torch``` with ```numpy``` and remove the ```.cuda()``` suffix.\n",
    "\n",
    "# Switching between backends:"
   ]
  },
  {
   "cell_type": "code",
   "execution_count": 1,
   "metadata": {},
   "outputs": [],
   "source": [
    "# Setting paths such that this notebook can see the relevant files.\n",
    "import sys\n",
    "sys.path.append(\"..\")\n",
    "\n",
    "# For PyTorch:\n",
    "import torch\n",
    "import numpy as np\n",
    "from backends.torch_functions import *"
   ]
  },
  {
   "cell_type": "markdown",
   "metadata": {},
   "source": [
    "# Setting a default data type and initializing a random test array:"
   ]
  },
  {
   "cell_type": "code",
   "execution_count": 2,
   "metadata": {},
   "outputs": [],
   "source": [
    "# Performing computations at fp64:\n",
    "torch.set_default_tensor_type(torch.cuda.DoubleTensor)\n",
    "\n",
    "# Uncomment if you want fp32:\n",
    "# torch.set_default_tensor_type(torch.cuda.FloatTensor)\n",
    "\n",
    "# Initializing a (26,90480) matrix uniformly at random:\n",
    "data = torch.rand(26,90480).cuda()"
   ]
  },
  {
   "cell_type": "markdown",
   "metadata": {},
   "source": [
    "# Performing rNMF with random initializations:\n",
    "The initial values are drawn uniformly at random from [0, 1)."
   ]
  },
  {
   "cell_type": "code",
   "execution_count": 3,
   "metadata": {},
   "outputs": [
    {
     "name": "stdout",
     "output_type": "stream",
     "text": [
      "Initializing rNMF uniformly at random.\n",
      "Iter = 0; Obj = 868708.875\n",
      "Iter = 1; Obj = 183801.265625; Err = 0.7884202003479004\n",
      "Iter = 11; Obj = 131183.421875; Err = 0.0076355105265975\n",
      "Iter = 21; Obj = 126262.71875; Err = 0.001966656418517232\n",
      "Iter = 31; Obj = 124934.4765625; Err = 0.0005705360672436655\n",
      "Iter = 41; Obj = 124546.6328125; Err = 0.00017140489944722503\n",
      "Iter = 51; Obj = 124426.71875; Err = 5.5564258218510076e-05\n",
      "Iter = 61; Obj = 124385.578125; Err = 2.053803291346412e-05\n",
      "Iter = 71; Obj = 124369.1953125; Err = 8.85711870068917e-06\n",
      "Iter = 81; Obj = 124361.578125; Err = 4.4602602429222316e-06\n",
      "Iter = 91; Obj = 124357.34375; Err = 2.7013811632059515e-06\n",
      "Iter = 101; Obj = 124354.5625; Err = 1.9475523913570214e-06\n",
      "Iter = 111; Obj = 124352.4921875; Err = 1.507808292444679e-06\n",
      "Iter = 121; Obj = 124350.796875; Err = 1.2565243423523498e-06\n",
      "Iter = 131; Obj = 124349.328125; Err = 1.0680585091904504e-06\n",
      "Iter = 141; Obj = 124348.0078125; Err = 9.424147151548823e-07\n",
      "Iter = 151; Obj = 124346.765625; Err = 1.0052523293779814e-06\n",
      "Iter = 161; Obj = 124345.6015625; Err = 9.424329050489177e-07\n",
      "Iter = 171; Obj = 124344.484375; Err = 8.796120027909637e-07\n",
      "Iter = 181; Obj = 124343.390625; Err = 8.796197903393477e-07\n",
      "Iter = 191; Obj = 124342.328125; Err = 8.796272936706373e-07\n",
      "Maximum number of iterations acheived\n"
     ]
    }
   ],
   "source": [
    "basis, coeff, outlier, obj = robust_nmf(data, rank=2, beta=1.5,\n",
    "                                        init='random', reg_val=1,\n",
    "                                        sum_to_one=0, tol=1e-7,\n",
    "                                        max_iter=200)"
   ]
  },
  {
   "cell_type": "markdown",
   "metadata": {},
   "source": [
    "# Performing rNMF with user provided initializations\n",
    "The initial values are taken from a dictionary provided by the user (as shown below)."
   ]
  },
  {
   "cell_type": "code",
   "execution_count": 4,
   "metadata": {},
   "outputs": [
    {
     "name": "stdout",
     "output_type": "stream",
     "text": [
      "Initializing rNMF with user provided values.\n",
      "Iter = 0; Obj = 898761.0\n",
      "Iter = 1; Obj = 183731.40625; Err = 0.7955725789070129\n",
      "Iter = 11; Obj = 131440.71875; Err = 0.007662001997232437\n",
      "Iter = 21; Obj = 126435.546875; Err = 0.0020482868421822786\n",
      "Iter = 31; Obj = 125007.625; Err = 0.0006385529995895922\n",
      "Iter = 41; Obj = 124557.2890625; Err = 0.00020700292952824384\n",
      "Iter = 51; Obj = 124409.078125; Err = 6.995081639615819e-05\n",
      "Iter = 61; Obj = 124357.21875; Err = 2.569396747276187e-05\n",
      "Iter = 71; Obj = 124337.03125; Err = 1.0681538697099313e-05\n",
      "Iter = 81; Obj = 124327.9765625; Err = 5.215512373979436e-06\n",
      "Iter = 91; Obj = 124323.234375; Err = 3.0163216706569074e-06\n",
      "Iter = 101; Obj = 124320.296875; Err = 1.948089220604743e-06\n",
      "Iter = 111; Obj = 124318.2109375; Err = 1.445381485609687e-06\n",
      "Iter = 121; Obj = 124316.5625; Err = 1.1940269359911326e-06\n",
      "Iter = 131; Obj = 124315.1640625; Err = 1.0683520486054476e-06\n",
      "Iter = 141; Obj = 124313.9375; Err = 8.798281783128914e-07\n",
      "Iter = 151; Obj = 124312.8125; Err = 8.169907346200489e-07\n",
      "Iter = 161; Obj = 124311.7578125; Err = 8.169976695171499e-07\n",
      "Iter = 171; Obj = 124310.765625; Err = 6.284648748078325e-07\n",
      "Iter = 181; Obj = 124309.796875; Err = 6.913166998856468e-07\n",
      "Iter = 191; Obj = 124308.8671875; Err = 6.913218726367631e-07\n",
      "Maximum number of iterations acheived\n"
     ]
    }
   ],
   "source": [
    "# Creating dictionary for initial values:\n",
    "init_dict = dict()\n",
    "init_dict['basis'] = torch.rand(26,2).cuda()\n",
    "init_dict['coeff'] = torch.rand(2,90480).cuda()\n",
    "init_dict['outlier'] = torch.rand(26,90480).cuda()\n",
    "\n",
    "# Performing rNMF:\n",
    "basis, coeff, outlier, obj = robust_nmf(data, rank=2, beta=1.5,\n",
    "                                        init='user', reg_val=1,\n",
    "                                        sum_to_one=0, tol=1e-7,\n",
    "                                        max_iter=200,\n",
    "                                        user_prov=init_dict)"
   ]
  },
  {
   "cell_type": "markdown",
   "metadata": {},
   "source": [
    "# Performing rNMF with nndsvd(ar)-initialization\n",
    "The initial values for the basis and coefficients are computed via slight modification of Boutsidis' NNDSVD algorithm. The outlier initializations are drawn uniformly at random."
   ]
  },
  {
   "cell_type": "code",
   "execution_count": 5,
   "metadata": {},
   "outputs": [
    {
     "name": "stdout",
     "output_type": "stream",
     "text": [
      "Initializing rNMF with nndsvdar. Switching to NumPy.\n",
      "Done. Switching back to PyTorch.\n",
      "Iter = 0; Obj = 815997.4375\n",
      "Iter = 1; Obj = 173137.0625; Err = 0.7878215312957764\n",
      "Iter = 11; Obj = 127768.421875; Err = 0.0033453686628490686\n",
      "Iter = 21; Obj = 125984.71875; Err = 0.0006181822391226888\n",
      "Iter = 31; Obj = 125574.8671875; Err = 0.00018268878920935094\n",
      "Iter = 41; Obj = 125435.03125; Err = 7.267925684573129e-05\n",
      "Iter = 51; Obj = 125371.859375; Err = 3.7823545426363125e-05\n",
      "Iter = 61; Obj = 125332.78125; Err = 2.8298858524067327e-05\n",
      "Iter = 71; Obj = 125295.546875; Err = 3.223524254281074e-05\n",
      "Iter = 81; Obj = 125249.640625; Err = 4.0105791413225234e-05\n",
      "Iter = 91; Obj = 125195.921875; Err = 4.467797407414764e-05\n",
      "Iter = 101; Obj = 125138.734375; Err = 4.6196590119507164e-05\n",
      "Iter = 111; Obj = 125081.609375; Err = 4.484370947466232e-05\n",
      "Iter = 121; Obj = 125027.5625; Err = 4.1676572436699644e-05\n",
      "Iter = 131; Obj = 124977.6875; Err = 3.838037810055539e-05\n",
      "Iter = 141; Obj = 124931.8984375; Err = 3.520544123603031e-05\n",
      "Iter = 151; Obj = 124889.953125; Err = 3.221482256776653e-05\n",
      "Iter = 161; Obj = 124851.53125; Err = 2.9534208806580864e-05\n",
      "Iter = 171; Obj = 124816.375; Err = 2.697640229598619e-05\n",
      "Iter = 181; Obj = 124784.25; Err = 2.4666967874509282e-05\n",
      "Iter = 191; Obj = 124754.8125; Err = 2.266895171487704e-05\n",
      "Maximum number of iterations acheived\n"
     ]
    }
   ],
   "source": [
    "basis, coeff, outlier, obj = robust_nmf(data, rank=2, beta=1.5,\n",
    "                                        init='nndsvdar', reg_val=1,\n",
    "                                        sum_to_one=0, tol=1e-7,\n",
    "                                        max_iter=200)"
   ]
  }
 ],
 "metadata": {
  "kernelspec": {
   "display_name": "Python 3",
   "language": "python",
   "name": "python3"
  },
  "language_info": {
   "codemirror_mode": {
    "name": "ipython",
    "version": 3
   },
   "file_extension": ".py",
   "mimetype": "text/x-python",
   "name": "python",
   "nbconvert_exporter": "python",
   "pygments_lexer": "ipython3",
   "version": "3.7.1"
  }
 },
 "nbformat": 4,
 "nbformat_minor": 2
}
