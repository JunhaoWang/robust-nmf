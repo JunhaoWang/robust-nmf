{
 "cells": [
  {
   "cell_type": "markdown",
   "metadata": {},
   "source": [
    "# Minimal working examples:\n",
    "\n",
    "For exhaustive details and further functionality, please see the comments on the function ```robust_nmf()``` in ```torch_functions.py``` or ```numpy_functions.py```.\n",
    "\n",
    "This file implements everything in PyTorch. For NumPy, just ```import numpy```, replace all instances of ```torch``` with ```numpy``` and remove the ```.cuda()``` suffix.\n",
    "\n",
    "# Switching between backends:"
   ]
  },
  {
   "cell_type": "code",
   "execution_count": 1,
   "metadata": {},
   "outputs": [],
   "source": [
    "# Setting paths such that this notebook can see the relevant files.\n",
    "import sys\n",
    "sys.path.append(\"..\")\n",
    "\n",
    "# For PyTorch:\n",
    "import torch\n",
    "import numpy as np\n",
    "from backends.torch_functions import *"
   ]
  },
  {
   "cell_type": "markdown",
   "metadata": {},
   "source": [
    "# Setting a default data type and initializing a random test array:"
   ]
  },
  {
   "cell_type": "code",
   "execution_count": 2,
   "metadata": {},
   "outputs": [],
   "source": [
    "# Performing computations at fp64:\n",
    "torch.set_default_tensor_type(torch.cuda.DoubleTensor)\n",
    "\n",
    "# Uncomment if you want fp32:\n",
    "# torch.set_default_tensor_type(torch.cuda.FloatTensor)\n",
    "\n",
    "# Initializing a (26,90480) matrix uniformly at random:\n",
    "data = torch.rand(26,90480).cuda()"
   ]
  },
  {
   "cell_type": "markdown",
   "metadata": {},
   "source": [
    "# Performing rNMF with random initializations:\n",
    "The initial values are drawn uniformly at random from [0, 1)."
   ]
  },
  {
   "cell_type": "code",
   "execution_count": 3,
   "metadata": {},
   "outputs": [
    {
     "name": "stdout",
     "output_type": "stream",
     "text": [
      "Initializing rNMF uniformly at random.\n",
      "Iter = 0; Obj = 875866.7890390381\n",
      "Iter = 1; Obj = 186548.90523608905; Err = 0.7870122402508695\n",
      "Iter = 11; Obj = 131570.23799094366; Err = 0.008220152108139724\n",
      "Iter = 21; Obj = 126357.92361880459; Err = 0.002072885606651518\n",
      "Iter = 31; Obj = 124940.06695817919; Err = 0.0006205726641113455\n",
      "Iter = 41; Obj = 124511.42063925497; Err = 0.00019259870296180236\n",
      "Iter = 51; Obj = 124375.54158224788; Err = 6.319822052558035e-05\n",
      "Iter = 61; Obj = 124329.24594376232; Err = 2.290102183622851e-05\n",
      "Iter = 71; Obj = 124310.96254049412; Err = 1.0011594974899465e-05\n",
      "Iter = 81; Obj = 124302.29201402137; Err = 5.154027980775965e-06\n",
      "Iter = 91; Obj = 124297.4732350084; Err = 3.0534048704397926e-06\n",
      "Iter = 101; Obj = 124294.44173909698; Err = 2.053859887392967e-06\n",
      "Iter = 111; Obj = 124292.25264448773; Err = 1.5710843751417095e-06\n",
      "Iter = 121; Obj = 124290.49604888825; Err = 1.3048232135589187e-06\n",
      "Iter = 131; Obj = 124288.99175201546; Err = 1.1443008869826756e-06\n",
      "Iter = 141; Obj = 124287.6442549587; Err = 1.041538218419866e-06\n",
      "Iter = 151; Obj = 124286.39866115944; Err = 9.742176437560647e-07\n",
      "Iter = 161; Obj = 124285.22207917002; Err = 9.258950051577571e-07\n",
      "Iter = 171; Obj = 124284.09733440928; Err = 8.896597210409378e-07\n",
      "Iter = 181; Obj = 124283.01061061917; Err = 8.628078142499215e-07\n",
      "Iter = 191; Obj = 124281.95388027761; Err = 8.406146835495398e-07\n",
      "Maximum number of iterations acheived\n"
     ]
    }
   ],
   "source": [
    "basis, coeff, outlier, obj = robust_nmf(data, rank=2, beta=1.5,\n",
    "                                        init='random', reg_val=1,\n",
    "                                        sum_to_one=0, tol=1e-7,\n",
    "                                        max_iter=200)"
   ]
  },
  {
   "cell_type": "markdown",
   "metadata": {},
   "source": [
    "# Performing rNMF with user provided initializations\n",
    "The initial values are taken from a dictionary provided by the user (as shown below)."
   ]
  },
  {
   "cell_type": "code",
   "execution_count": 4,
   "metadata": {},
   "outputs": [
    {
     "name": "stdout",
     "output_type": "stream",
     "text": [
      "Initializing rNMF uniformly at random.\n",
      "Iter = 0; Obj = 954734.8205488706\n",
      "Iter = 1; Obj = 180525.0189606496; Err = 0.8109160626854827\n",
      "Iter = 11; Obj = 130777.34318690095; Err = 0.006826178857557937\n",
      "Iter = 21; Obj = 126279.73518379182; Err = 0.001870744690916701\n",
      "Iter = 31; Obj = 124967.72019177592; Err = 0.0005903990405214266\n",
      "Iter = 41; Obj = 124550.40660005208; Err = 0.0001927960390133438\n",
      "Iter = 51; Obj = 124410.41670988967; Err = 6.76619411905208e-05\n",
      "Iter = 61; Obj = 124359.13111896114; Err = 2.60768678105995e-05\n",
      "Iter = 71; Obj = 124338.3459522361; Err = 1.121829906216746e-05\n",
      "Iter = 81; Obj = 124328.7800335768; Err = 5.607169714034557e-06\n",
      "Iter = 91; Obj = 124323.5367357459; Err = 3.3590609933976083e-06\n",
      "Iter = 101; Obj = 124320.16114751423; Err = 2.293752795079604e-06\n",
      "Iter = 111; Obj = 124317.72911033987; Err = 1.731202584796987e-06\n",
      "Iter = 121; Obj = 124315.81052322636; Err = 1.4146297376735845e-06\n",
      "Iter = 131; Obj = 124314.1914682633; Err = 1.2241939708649358e-06\n",
      "Iter = 141; Obj = 124312.7583891826; Err = 1.1017336775745095e-06\n",
      "Iter = 151; Obj = 124311.44946295052; Err = 1.0175454304300662e-06\n",
      "Iter = 161; Obj = 124310.22752605187; Err = 9.57412624643205e-07\n",
      "Iter = 171; Obj = 124309.06959818868; Err = 9.122560076441465e-07\n",
      "Iter = 181; Obj = 124307.95990481091; Err = 8.779317656073164e-07\n",
      "Iter = 191; Obj = 124306.88817960233; Err = 8.500013825700956e-07\n",
      "Maximum number of iterations acheived\n"
     ]
    }
   ],
   "source": [
    "# Creating dictionary for initial values:\n",
    "init_dict = dict()\n",
    "init_dict['basis'] = torch.rand(26,2).cuda()\n",
    "init_dict['coeff'] = torch.rand(2,90480).cuda()\n",
    "init_dict['outlier'] = torch.rand(26,90480).cuda()\n",
    "\n",
    "# Performing rNMF:\n",
    "basis, coeff, outlier, obj = robust_nmf(data, rank=2, beta=1.5,\n",
    "                                        init='random', reg_val=1,\n",
    "                                        sum_to_one=0, tol=1e-7,\n",
    "                                        max_iter=200,\n",
    "                                        user_prov=init_dict)"
   ]
  },
  {
   "cell_type": "markdown",
   "metadata": {},
   "source": [
    "# Performing rNMF with nndsvd(ar)-initialization\n",
    "The initial values for the basis and coefficients are computed via slight modification of Boutsidis' NNDSVD algorithm. The outlier initializations are drawn uniformly at random."
   ]
  },
  {
   "cell_type": "code",
   "execution_count": 5,
   "metadata": {},
   "outputs": [
    {
     "name": "stdout",
     "output_type": "stream",
     "text": [
      "Initializing rNMF with nndsvdar. Switching to NumPy.\n",
      "Done. Switching back to PyTorch.\n",
      "Iter = 0; Obj = 816207.958477269\n",
      "Iter = 1; Obj = 173175.49999149857; Err = 0.7878291945173169\n",
      "Iter = 11; Obj = 127763.29044312872; Err = 0.003365059407596845\n",
      "Iter = 21; Obj = 125961.19011457262; Err = 0.000629401236864756\n",
      "Iter = 31; Obj = 125540.4776077164; Err = 0.00018962532334502276\n",
      "Iter = 41; Obj = 125394.33534543177; Err = 7.613334154589587e-05\n",
      "Iter = 51; Obj = 125329.46054458631; Err = 3.7296692149192056e-05\n",
      "Iter = 61; Obj = 125295.14758385808; Err = 2.117053211136932e-05\n",
      "Iter = 71; Obj = 125274.47184338325; Err = 1.3447885924488094e-05\n",
      "Iter = 81; Obj = 125260.78760429335; Err = 9.1909342619433e-06\n",
      "Iter = 91; Obj = 125251.22791345842; Err = 6.520064954941795e-06\n",
      "Iter = 101; Obj = 125244.38481171295; Err = 4.699654934278193e-06\n",
      "Iter = 111; Obj = 125239.4143066389; Err = 3.4394989350691593e-06\n",
      "Iter = 121; Obj = 125235.74652315429; Err = 2.5560883637467313e-06\n",
      "Iter = 131; Obj = 125233.00368779586; Err = 1.9206899840543805e-06\n",
      "Iter = 141; Obj = 125230.9356542944; Err = 1.4517440969553198e-06\n",
      "Iter = 151; Obj = 125229.36834165565; Err = 1.1037647274939873e-06\n",
      "Iter = 161; Obj = 125228.16599272242; Err = 8.579460578464779e-07\n",
      "Iter = 171; Obj = 125227.1901951198; Err = 7.402833704041236e-07\n",
      "Iter = 181; Obj = 125226.19647950996; Err = 8.98750067995424e-07\n",
      "Iter = 191; Obj = 125224.6183827119; Err = 1.6822315660453755e-06\n",
      "Maximum number of iterations acheived\n"
     ]
    }
   ],
   "source": [
    "basis, coeff, outlier, obj = robust_nmf(data, rank=2, beta=1.5,\n",
    "                                        init='nndsvdar', reg_val=1,\n",
    "                                        sum_to_one=0, tol=1e-7,\n",
    "                                        max_iter=200)"
   ]
  }
 ],
 "metadata": {
  "kernelspec": {
   "display_name": "Python 3",
   "language": "python",
   "name": "python3"
  },
  "language_info": {
   "codemirror_mode": {
    "name": "ipython",
    "version": 3
   },
   "file_extension": ".py",
   "mimetype": "text/x-python",
   "name": "python",
   "nbconvert_exporter": "python",
   "pygments_lexer": "ipython3",
   "version": "3.7.1"
  }
 },
 "nbformat": 4,
 "nbformat_minor": 2
}
